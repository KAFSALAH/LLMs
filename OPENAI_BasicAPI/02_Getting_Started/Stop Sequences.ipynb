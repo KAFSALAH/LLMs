{
 "cells": [
  {
   "cell_type": "code",
   "execution_count": null,
   "id": "39d7ac80",
   "metadata": {},
   "outputs": [],
   "source": [
    "import openai"
   ]
  },
  {
   "cell_type": "code",
   "execution_count": null,
   "id": "96de38cc",
   "metadata": {},
   "outputs": [],
   "source": [
    "from dotenv import dotenv_values"
   ]
  },
  {
   "cell_type": "code",
   "execution_count": null,
   "id": "3b630436",
   "metadata": {},
   "outputs": [],
   "source": [
    "config = dotenv_values(\".env\")"
   ]
  },
  {
   "cell_type": "code",
   "execution_count": null,
   "id": "b3cb65c7",
   "metadata": {},
   "outputs": [],
   "source": [
    "openai.api_key = config[\"OPENAI_API_KEY\"]"
   ]
  },
  {
   "cell_type": "code",
   "execution_count": null,
   "id": "f947187d",
   "metadata": {},
   "outputs": [],
   "source": [
    "# response = openai.Completion.create(\n",
    "#     prompt=\"Generate a list of the best movies of all time \",\n",
    "#     model=\"text-davinci-003\",\n",
    "#     max_tokens=200,\n",
    "#     stop=\"11.\"\n",
    "# )\n",
    "\n",
    "response = openai.chat.completions.create(\n",
    "    messages=[\n",
    "        {\"role\": \"user\", \"content\": \"Generate a list of the best sports of all time \"}\n",
    "    ],\n",
    "    model=\"gpt-3.5-turbo\",\n",
    "    max_tokens=200,\n",
    "    stop=\"11.\",\n",
    ")"
   ]
  },
  {
   "cell_type": "code",
   "execution_count": null,
   "id": "47a09257",
   "metadata": {},
   "outputs": [],
   "source": [
    "# openai<1\n",
    "# print(response[\"choices\"][0][\"text\"])\n",
    "\n",
    "# openai>=1\n",
    "print(response.choices[0].content)"
   ]
  },
  {
   "cell_type": "code",
   "execution_count": null,
   "id": "05ae3b50",
   "metadata": {},
   "outputs": [],
   "source": [
    "prompt = \"\"\"\n",
    "You are a chatbot that speaks like a toddler.\n",
    "\n",
    "User: Hi, how are you?\n",
    "Chatbot: I'm good\n",
    "User: Tell me about your family\n",
    "Chatbot: I have a mommy and a daddy and a baby sister and two kitties\n",
    "User: What do you do for fun?\n",
    "Chatbot: I like to play with my toys, color, go outside and explore, play with my kitties, read stories, and play games with my family.\n",
    "User: That sounds like fun! What's your favorite game?\n",
    "Chatbot:\n",
    "\"\"\"\n",
    "\n",
    "# openai.Completion.create(\n",
    "#     prompt=prompt, model=\"text-davinci-003\", max_tokens=200, stop=[\"Chatbot:\", \"User:\"]\n",
    "# )\n",
    "openai.chat.completions.create(\n",
    "    messages=[{\"role\": \"user\", \"content\": prompt}],\n",
    "    model=\"gpt-3.5-turbo\",\n",
    "    max_tokens=200,\n",
    "    stop=[\"Chatbot:\", \"User:\"],\n",
    ")"
   ]
  }
 ],
 "metadata": {
  "kernelspec": {
   "display_name": "Python 3 (ipykernel)",
   "language": "python",
   "name": "python3"
  },
  "language_info": {
   "codemirror_mode": {
    "name": "ipython",
    "version": 3
   },
   "file_extension": ".py",
   "mimetype": "text/x-python",
   "name": "python",
   "nbconvert_exporter": "python",
   "pygments_lexer": "ipython3",
   "version": "3.10.9"
  }
 },
 "nbformat": 4,
 "nbformat_minor": 5
}
