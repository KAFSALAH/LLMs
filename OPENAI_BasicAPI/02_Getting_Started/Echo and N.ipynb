{
 "cells": [
  {
   "cell_type": "code",
   "execution_count": null,
   "id": "39d7ac80",
   "metadata": {},
   "outputs": [],
   "source": [
    "import openai"
   ]
  },
  {
   "cell_type": "code",
   "execution_count": null,
   "id": "96de38cc",
   "metadata": {},
   "outputs": [],
   "source": [
    "from dotenv import dotenv_values"
   ]
  },
  {
   "cell_type": "code",
   "execution_count": null,
   "id": "9cbe4fdd",
   "metadata": {},
   "outputs": [],
   "source": []
  },
  {
   "cell_type": "code",
   "execution_count": null,
   "id": "3b630436",
   "metadata": {},
   "outputs": [],
   "source": [
    "config = dotenv_values(\".env\")"
   ]
  },
  {
   "cell_type": "code",
   "execution_count": null,
   "id": "b3cb65c7",
   "metadata": {},
   "outputs": [],
   "source": [
    "openai.api_key = config[\"OPENAI_API_KEY\"]"
   ]
  },
  {
   "cell_type": "code",
   "execution_count": null,
   "id": "88b817b3",
   "metadata": {},
   "outputs": [],
   "source": [
    "# openai.Completion.create(\n",
    "#     model=\"text-davinci-003\", prompt=\"write me a poem\", max_tokens=100, n=3\n",
    "# )\n",
    "openai.chat.completions.create(\n",
    "    model=\"gpt-3.5-turbo\",\n",
    "    messages=[{\"role\": \"user\", \"content\": \"write me a poem\"}],\n",
    "    max_tokens=100,\n",
    "    n=3,\n",
    ")"
   ]
  },
  {
   "cell_type": "code",
   "execution_count": null,
   "id": "644044f3",
   "metadata": {},
   "outputs": [],
   "source": [
    "# openai.Completion.create(\n",
    "#     model=\"text-davinci-003\",\n",
    "#     prompt=\"Q: What is the tallest building in the world?\",\n",
    "#     max_tokens=100,\n",
    "#     #     echo=True\n",
    "# )\n",
    "openai.chat.completions.create(\n",
    "    model=\"gpt-3.5-turbo\",\n",
    "    messages=[\n",
    "        {\"role\": \"user\", \"content\": \"Q: What is the tallest building in the world?\"}\n",
    "    ],\n",
    "    max_tokens=100,\n",
    ")"
   ]
  },
  {
   "cell_type": "code",
   "execution_count": null,
   "id": "9a4fc8b0",
   "metadata": {},
   "outputs": [],
   "source": [
    "# openai.Completion.create(\n",
    "#     model=\"text-davinci-003\",\n",
    "#     prompt=\"In a single word, what is the color of a pickle? \",\n",
    "#     max_tokens=100,\n",
    "#     #     echo=True\n",
    "# )\n",
    "openai.chat.completions.create(\n",
    "    model=\"gpt-3.5-turbo\",\n",
    "    messages=[\n",
    "        {\"role\": \"user\", \"content\": \"In a single word, what is the color of a pickle?\"}\n",
    "    ],\n",
    "    max_tokens=100,\n",
    ")"
   ]
  },
  {
   "cell_type": "code",
   "execution_count": null,
   "id": "04bdf334",
   "metadata": {},
   "outputs": [],
   "source": [
    "# openai.Completion.create(\n",
    "#     model=\"text-davinci-003\",\n",
    "#     prompt=\"In a single word, what is the color of a pickle? \",\n",
    "#     max_tokens=100,\n",
    "#     echo=True,\n",
    "# )\n",
    "\n",
    "# With Chat Completions, OpenAI doesn't permit the echo parameter.\n",
    "openai.chat.completions.create(\n",
    "    model=\"gpt-3.5-turbo\",\n",
    "    messages=[\n",
    "        {\"role\": \"user\", \"content\": \"In a single word, what is the color of a pickle? \"}\n",
    "    ],\n",
    "    max_tokens=100,\n",
    ")"
   ]
  },
  {
   "cell_type": "code",
   "execution_count": null,
   "id": "3ea8fde2",
   "metadata": {},
   "outputs": [],
   "source": []
  }
 ],
 "metadata": {
  "kernelspec": {
   "display_name": "Python 3 (ipykernel)",
   "language": "python",
   "name": "python3"
  },
  "language_info": {
   "codemirror_mode": {
    "name": "ipython",
    "version": 3
   },
   "file_extension": ".py",
   "mimetype": "text/x-python",
   "name": "python",
   "nbconvert_exporter": "python",
   "pygments_lexer": "ipython3",
   "version": "3.10.9"
  }
 },
 "nbformat": 4,
 "nbformat_minor": 5
}
