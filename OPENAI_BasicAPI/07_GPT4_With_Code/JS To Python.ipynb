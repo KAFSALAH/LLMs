{
 "cells": [
  {
   "cell_type": "code",
   "execution_count": null,
   "id": "39d7ac80",
   "metadata": {},
   "outputs": [],
   "source": [
    "import openai"
   ]
  },
  {
   "cell_type": "code",
   "execution_count": null,
   "id": "96de38cc",
   "metadata": {},
   "outputs": [],
   "source": [
    "from dotenv import dotenv_values"
   ]
  },
  {
   "cell_type": "code",
   "execution_count": null,
   "id": "3b630436",
   "metadata": {},
   "outputs": [],
   "source": [
    "config = dotenv_values(\".env\")"
   ]
  },
  {
   "cell_type": "code",
   "execution_count": null,
   "id": "b3cb65c7",
   "metadata": {},
   "outputs": [],
   "source": [
    "openai.api_key = config[\"OPENAI_API_KEY\"]"
   ]
  },
  {
   "cell_type": "markdown",
   "id": "39d5e151",
   "metadata": {},
   "source": [
    "## Asking GPT-4 To Translate JS to Python"
   ]
  },
  {
   "cell_type": "code",
   "execution_count": null,
   "id": "48145ca1",
   "metadata": {},
   "outputs": [],
   "source": [
    "# js = \"\"\"\n",
    "# function mystery(arr) {\n",
    "#   return arr.reduce(function (p, v) {\n",
    "#     return ( p < v ? p : v );\n",
    "#   });\n",
    "# }\n",
    "# \"\"\"\n",
    "\n",
    "# js = \"\"\"\n",
    "# const mystery = (email) => {\n",
    "#   const regex = /^\\S+@\\S+\\.\\S+$/;\n",
    "#   return regex.test(email);\n",
    "# };\n",
    "# \"\"\"\n",
    "\n",
    "js = \"\"\"\n",
    "const mystery = (str) => {\n",
    "  const arr = str.trim().toLowerCase().split(\" \");\n",
    "\n",
    "  for (let i = 0; i < arr.length; i++) {\n",
    "    arr[i] = arr[i].charAt(0).toUpperCase() + arr[i].slice(1);\n",
    "  }\n",
    "\n",
    "  return arr.join(\" \");\n",
    "};\n",
    "\"\"\""
   ]
  },
  {
   "cell_type": "code",
   "execution_count": null,
   "id": "bb7ffb05",
   "metadata": {},
   "outputs": [],
   "source": [
    "messages = [\n",
    "    {\"role\": \"user\", \"content\": f\"Translate the following JavaScript to Python: {js}\"}\n",
    "]"
   ]
  },
  {
   "cell_type": "code",
   "execution_count": null,
   "id": "9e7c992a",
   "metadata": {},
   "outputs": [],
   "source": [
    "res = openai.chat.completions.create(messages=messages, model=\"gpt-4\")\n",
    "print(res.choices[0].message.content)"
   ]
  },
  {
   "cell_type": "code",
   "execution_count": null,
   "id": "0fc07a38",
   "metadata": {},
   "outputs": [],
   "source": [
    "def mystery(str):\n",
    "    arr = str.strip().lower().split(\" \")\n",
    "\n",
    "    for i in range(len(arr)):\n",
    "        arr[i] = arr[i][0].upper() + arr[i][1:]\n",
    "\n",
    "    return \" \".join(arr)"
   ]
  },
  {
   "cell_type": "code",
   "execution_count": null,
   "id": "a12ed01b",
   "metadata": {},
   "outputs": [],
   "source": [
    "mystery(\"i like to eat chicken\")"
   ]
  },
  {
   "cell_type": "code",
   "execution_count": null,
   "id": "5371164c",
   "metadata": {},
   "outputs": [],
   "source": []
  },
  {
   "cell_type": "code",
   "execution_count": null,
   "id": "e88a77e2",
   "metadata": {},
   "outputs": [],
   "source": []
  }
 ],
 "metadata": {
  "kernelspec": {
   "display_name": "OpenAI_Course_Code-15_Whisper-3.9.4",
   "language": "python",
   "name": "openai_course_code-15_whisper-3.9.4"
  },
  "language_info": {
   "codemirror_mode": {
    "name": "ipython",
    "version": 3
   },
   "file_extension": ".py",
   "mimetype": "text/x-python",
   "name": "python",
   "nbconvert_exporter": "python",
   "pygments_lexer": "ipython3",
   "version": "3.9.4"
  }
 },
 "nbformat": 4,
 "nbformat_minor": 5
}
