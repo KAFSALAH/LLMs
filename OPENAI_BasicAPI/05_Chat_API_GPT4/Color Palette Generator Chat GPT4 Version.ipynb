{
 "cells": [
  {
   "cell_type": "code",
   "execution_count": null,
   "id": "39d7ac80",
   "metadata": {},
   "outputs": [],
   "source": [
    "import openai"
   ]
  },
  {
   "cell_type": "code",
   "execution_count": null,
   "id": "dadde237",
   "metadata": {},
   "outputs": [],
   "source": [
    "import json"
   ]
  },
  {
   "cell_type": "code",
   "execution_count": null,
   "id": "96de38cc",
   "metadata": {},
   "outputs": [],
   "source": [
    "from dotenv import dotenv_values"
   ]
  },
  {
   "cell_type": "code",
   "execution_count": null,
   "id": "3b630436",
   "metadata": {},
   "outputs": [],
   "source": [
    "config = dotenv_values(\".env\")"
   ]
  },
  {
   "cell_type": "code",
   "execution_count": null,
   "id": "b3cb65c7",
   "metadata": {},
   "outputs": [],
   "source": [
    "openai.api_key = config[\"OPENAI_API_KEY\"]"
   ]
  },
  {
   "cell_type": "code",
   "execution_count": null,
   "id": "3d404f6b",
   "metadata": {},
   "outputs": [],
   "source": [
    "from IPython.display import Markdown, display\n",
    "\n",
    "\n",
    "def display_colors(colors):\n",
    "    display(\n",
    "        Markdown(\n",
    "            \" \".join(\n",
    "                f\"<span style='color: {color}'>{chr(9608) * 4}</span>\"\n",
    "                for color in colors\n",
    "            )\n",
    "        )\n",
    "    )"
   ]
  },
  {
   "cell_type": "markdown",
   "id": "efbcfb41",
   "metadata": {},
   "source": [
    "## The Completion API GPT-3 Version"
   ]
  },
  {
   "cell_type": "code",
   "execution_count": null,
   "id": "f947187d",
   "metadata": {},
   "outputs": [],
   "source": [
    "# def get_and_render_colors(msg):\n",
    "#     prompt = f\"\"\"\n",
    "#     You are a color palette generating assistant that responds to text prompts for color palettes\n",
    "#     Your should generate color palettes that fit the theme, mood, or instructions in the prompt.\n",
    "#     The palettes should be between 2 and 8 colors.\n",
    "\n",
    "#     Q: Convert the following verbal description of a color palette into a list of colors: The Mediterranean Sea\n",
    "#     A: [\"#006699\", \"#66CCCC\", \"#F0E68C\", \"#008000\", \"#F08080\"]\n",
    "\n",
    "#     Q: Convert the following verbal description of a color palette into a list of colors: sage, nature, earth\n",
    "#     A: [\"#EDF1D6\", \"#9DC08B\", \"#609966\", \"#40513B\"]\n",
    "\n",
    "\n",
    "#     Desired Format: a JSON array of hexadecimal color codes\n",
    "\n",
    "#     Q: Convert the following verbal description of a color palette into a list of colors: {msg}\n",
    "#     A:\n",
    "#     \"\"\"\n",
    "\n",
    "#     response = openai.completions.create(\n",
    "#         prompt=prompt,\n",
    "#         model=\"text-davinci-003\",\n",
    "#         max_tokens=200,\n",
    "#     )\n",
    "\n",
    "#     colors = json.loads(response[\"choices\"][0][\"text\"])\n",
    "#     display_colors(colors)"
   ]
  },
  {
   "cell_type": "code",
   "execution_count": null,
   "id": "75a60f0d",
   "metadata": {},
   "outputs": [],
   "source": [
    "# The completions API has been deprecated (R.I.P.)\n",
    "\n",
    "# get_and_render_colors(\"4 Google brand colors\")"
   ]
  },
  {
   "cell_type": "markdown",
   "id": "40d0266e",
   "metadata": {},
   "source": [
    "## The Chat API GPT-4 Version"
   ]
  },
  {
   "cell_type": "code",
   "execution_count": null,
   "id": "c26ca5d1",
   "metadata": {},
   "outputs": [],
   "source": [
    "def get_and_render_colors_chat(msg):\n",
    "    messages = [\n",
    "        {\n",
    "            \"role\": \"system\",\n",
    "            \"content\": \"You are a color palette generating assistant that responds to text prompts for color palettes. You should generate color palettes that fit the theme, mood, or instructions in the prompt.The palettes should be between 2 and 8 colors.\",\n",
    "        },\n",
    "        {\n",
    "            \"role\": \"user\",\n",
    "            \"content\": \"Convert the following verbal description of a color palette into a list of colors: The Mediterranean Sea\",\n",
    "        },\n",
    "        {\n",
    "            \"role\": \"assistant\",\n",
    "            \"content\": '[\"#006699\", \"#66CCCC\", \"#F0E68C\", \"#008000\", \"#F08080\"]',\n",
    "        },\n",
    "        {\n",
    "            \"role\": \"user\",\n",
    "            \"content\": \"Convert the following verbal description of a color palette into a list of colors: sage, nature, earth\",\n",
    "        },\n",
    "        {\n",
    "            \"role\": \"assistant\",\n",
    "            \"content\": '[\"#EDF1D6\", \"#9DC08B\", \"#609966\", \"#40513B\"]',\n",
    "        },\n",
    "        {\n",
    "            \"role\": \"user\",\n",
    "            \"content\": f\"Convert the following verbal description of a color palette into a list of colors: {msg}\",\n",
    "        },\n",
    "    ]\n",
    "    response = openai.chat.completions.create(\n",
    "        messages=messages,\n",
    "        model=\"gpt-4\",  # use gpt-3.5-turbo if you don't have gpt-4 access\n",
    "        max_tokens=200,\n",
    "    )\n",
    "\n",
    "    colors = json.loads(response.choices[0].message.content)\n",
    "    display_colors(colors)"
   ]
  },
  {
   "cell_type": "code",
   "execution_count": null,
   "id": "c87230fd",
   "metadata": {},
   "outputs": [],
   "source": [
    "get_and_render_colors_chat(\"misty morning at the ocean\")"
   ]
  },
  {
   "cell_type": "code",
   "execution_count": null,
   "id": "17039e7d",
   "metadata": {},
   "outputs": [],
   "source": [
    "get_and_render_colors_chat(\"4 Google brand colors\")"
   ]
  },
  {
   "cell_type": "code",
   "execution_count": null,
   "id": "adbe9cfb",
   "metadata": {},
   "outputs": [],
   "source": [
    "get_and_render_colors_chat(\"light blue sky with fresh green grass and white clouds\")"
   ]
  },
  {
   "cell_type": "code",
   "execution_count": null,
   "id": "d4cfb052",
   "metadata": {},
   "outputs": [],
   "source": [
    "get_and_render_colors_chat(\"night sky with bright blue neon sign\")"
   ]
  }
 ],
 "metadata": {
  "kernelspec": {
   "display_name": "OpenAI_Course_Code-15_Whisper-3.9.4",
   "language": "python",
   "name": "openai_course_code-15_whisper-3.9.4"
  },
  "language_info": {
   "codemirror_mode": {
    "name": "ipython",
    "version": 3
   },
   "file_extension": ".py",
   "mimetype": "text/x-python",
   "name": "python",
   "nbconvert_exporter": "python",
   "pygments_lexer": "ipython3",
   "version": "3.9.4"
  }
 },
 "nbformat": 4,
 "nbformat_minor": 5
}
