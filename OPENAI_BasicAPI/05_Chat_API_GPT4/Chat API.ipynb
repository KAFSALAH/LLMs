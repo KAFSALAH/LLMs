{
 "cells": [
  {
   "cell_type": "code",
   "execution_count": null,
   "id": "39d7ac80",
   "metadata": {},
   "outputs": [],
   "source": [
    "import openai"
   ]
  },
  {
   "cell_type": "code",
   "execution_count": null,
   "id": "96de38cc",
   "metadata": {},
   "outputs": [],
   "source": [
    "from dotenv import dotenv_values"
   ]
  },
  {
   "cell_type": "code",
   "execution_count": null,
   "id": "3b630436",
   "metadata": {},
   "outputs": [],
   "source": [
    "config = dotenv_values(\".env\")"
   ]
  },
  {
   "cell_type": "code",
   "execution_count": null,
   "id": "b3cb65c7",
   "metadata": {},
   "outputs": [],
   "source": [
    "openai.api_key = config[\"OPENAI_API_KEY\"]"
   ]
  },
  {
   "cell_type": "markdown",
   "id": "7d06fb44",
   "metadata": {},
   "source": [
    "## Using the Completion API"
   ]
  },
  {
   "cell_type": "code",
   "execution_count": null,
   "id": "59f3e550",
   "metadata": {},
   "outputs": [],
   "source": [
    "# response = openai.completions.create(\n",
    "#     prompt=\"generate me 3 trivia questions and answers\",\n",
    "#     model=\"text-davinci-003\",\n",
    "#     max_tokens=300,\n",
    "# )\n",
    "# print(response.choices[0].text)\n",
    "\n",
    "# The completions API has been deprecated (R.I.P.)"
   ]
  },
  {
   "cell_type": "markdown",
   "id": "e287858b",
   "metadata": {},
   "source": [
    "## Using the Chat API"
   ]
  },
  {
   "cell_type": "code",
   "execution_count": null,
   "id": "24faaf7c",
   "metadata": {},
   "outputs": [],
   "source": [
    "reply = openai.chat.completions.create(\n",
    "    model=\"gpt-4\",\n",
    "    messages=[\n",
    "        {\"role\": \"user\", \"content\": \"generate me 3 trivia questions and answers\"}\n",
    "    ],\n",
    ")\n",
    "print(reply.choices[0].message.content)"
   ]
  },
  {
   "cell_type": "code",
   "execution_count": null,
   "id": "384e3cae",
   "metadata": {},
   "outputs": [],
   "source": [
    "openai.chat.completions.create(\n",
    "    model=\"gpt-3.5-turbo\",\n",
    "    messages=[\n",
    "        {\n",
    "            \"role\": \"system\",\n",
    "            \"content\": \"You are a helpful assistant that translates English to French.\",\n",
    "        },\n",
    "        {\n",
    "            \"role\": \"user\",\n",
    "            \"content\": \"Translate the following English text to French: I want a pet frog\",\n",
    "        },\n",
    "    ],\n",
    ")"
   ]
  },
  {
   "cell_type": "code",
   "execution_count": null,
   "id": "d008d0d2",
   "metadata": {},
   "outputs": [],
   "source": [
    "openai.chat.completions.create(\n",
    "    model=\"gpt-3.5-turbo\",\n",
    "    messages=[\n",
    "        {\n",
    "            \"role\": \"user\",\n",
    "            \"content\": \"You are a helpful assistant that translates English to French. Translate the following English text to French: I want a pet frog\",\n",
    "        }\n",
    "    ],\n",
    ")"
   ]
  },
  {
   "cell_type": "code",
   "execution_count": null,
   "id": "3628bf9c",
   "metadata": {},
   "outputs": [],
   "source": [
    "openai.chat.completions.create(\n",
    "    model=\"gpt-3.5-turbo\",\n",
    "    messages=[\n",
    "        {\n",
    "            \"role\": \"system\",\n",
    "            \"content\": \"You are a helpful assistant that classifies the sentiment in text as either positive, neutral, or negative\",\n",
    "        },\n",
    "        {\n",
    "            \"role\": \"user\",\n",
    "            \"content\": \"Classify the sentiment in the following text: 'I really hate chickens'\",\n",
    "        },\n",
    "        {\"role\": \"assistant\", \"content\": \"Negative\"},\n",
    "        {\n",
    "            \"role\": \"user\",\n",
    "            \"content\": \"Classify the sentiment in the following text: 'I love my dog'\",\n",
    "        },\n",
    "    ],\n",
    ")"
   ]
  },
  {
   "cell_type": "code",
   "execution_count": null,
   "id": "ad77ef3c",
   "metadata": {},
   "outputs": [],
   "source": [
    "response = openai.chat.completions.create(\n",
    "    model=\"gpt-3.5-turbo\",\n",
    "    messages=[\n",
    "        {\n",
    "            \"role\": \"system\",\n",
    "            \"content\": \"You are a helpful assistant that creates funny poems\",\n",
    "        },\n",
    "        {\n",
    "            \"role\": \"user\",\n",
    "            \"content\": \"Generate me a 5 line poem about the topic of your choosing\",\n",
    "        },\n",
    "    ],\n",
    "    temperature=0.9,\n",
    "    max_tokens=200,\n",
    ")\n",
    "\n",
    "print(response.choices[0].message.content)"
   ]
  },
  {
   "cell_type": "code",
   "execution_count": null,
   "id": "11746170",
   "metadata": {},
   "outputs": [],
   "source": []
  }
 ],
 "metadata": {
  "kernelspec": {
   "display_name": "OpenAI_Course_Code-15_Whisper-3.9.4",
   "language": "python",
   "name": "openai_course_code-15_whisper-3.9.4"
  },
  "language_info": {
   "codemirror_mode": {
    "name": "ipython",
    "version": 3
   },
   "file_extension": ".py",
   "mimetype": "text/x-python",
   "name": "python",
   "nbconvert_exporter": "python",
   "pygments_lexer": "ipython3",
   "version": "3.9.4"
  }
 },
 "nbformat": 4,
 "nbformat_minor": 5
}
